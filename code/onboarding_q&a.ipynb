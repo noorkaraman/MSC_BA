{
 "cells": [
  {
   "cell_type": "code",
   "execution_count": 16,
   "id": "8b326c40",
   "metadata": {},
   "outputs": [],
   "source": [
    "import pandas as pd\n",
    "import os"
   ]
  },
  {
   "cell_type": "code",
   "execution_count": 17,
   "id": "0fd49d2e",
   "metadata": {},
   "outputs": [],
   "source": [
    "# Fixed file path for output\n",
    "OUT_PATH = \"data/Onboarding_Q&A.csv\""
   ]
  },
  {
   "cell_type": "code",
   "execution_count": 18,
   "id": "681b6c9c",
   "metadata": {},
   "outputs": [],
   "source": [
    "# Persona name variable (can be pre-filled or left blank to ask)\n",
    "PERSONA_NAME = \"test subject\"  # e.g., \"Sarah Ahmed\""
   ]
  },
  {
   "cell_type": "code",
   "execution_count": 19,
   "id": "c9a915a9",
   "metadata": {},
   "outputs": [],
   "source": [
    "# --- EXACT headers already in your CSV (copy-pasted from your message) ---\n",
    "HEADERS = pd.read_csv(OUT_PATH, nrows=0).columns.tolist()"
   ]
  },
  {
   "cell_type": "code",
   "execution_count": 20,
   "id": "6588456f",
   "metadata": {},
   "outputs": [],
   "source": [
    "# --- Friendly prompts to collect answers (MCQs shown in brackets for guidance) ---\n",
    "PROMPTS = {\n",
    "    \"Persona\": \"Persona name (e.g., 'Sarah Ahmed'): \",\n",
    "    \"Preferred name or nickname\": \"What is your preferred name or nickname?\",\n",
    "    \"Age\": \"What is your age?\",\n",
    "    \"First language(s)\": \"What is your first language? Any other languages you speak?\",\n",
    "    \"Personality (3â€“5 words)\": \"Describe your personality in 3–5 words (e.g., calm, funny, thoughtful, direct):\",\n",
    "    \"Preferred communication tone(s)\": \"How do you prefer to communicate? [Formal; Casual; Empathetic; Witty; Sarcastic; To-the-point; Other]\",\n",
    "    \"Tones/styles to avoid\": \"What tones/styles should be avoided? (e.g., condescending, overly emotional)\",\n",
    "    \"Response length preference\": \"Do you prefer short or detailed responses? [Short; Detailed; Depends]\",\n",
    "    \"Use of emojis/exclamations\": \"Should the assistant use emojis/exclamations? [Yes; No; I don’t mind]\",\n",
    "    \"Words/expressions to avoid\": \"Any words/expressions/tones that frustrate or bother you?\",\n",
    "    \"Explanation style (clear vs. simple)\": \"Explanation style? [Explained clearly; Kept simple; Depends]\",\n",
    "    \"Relationship status\": \"What is your relationship status? [Single; Married; Divorced; Widowed; Other]\",\n",
    "    \"Children (count)\": \"Do you have children? If yes, how many? (put a number; 0 if none)\",\n",
    "    \"Children details (genders/ages)\": \"Children details (genders/ages) [Boy; Girl; Other] (optional):\",\n",
    "    \"Living situation (alone/with)\": \"Do you live alone or with someone? [Alone; With family; With caregiver; Other]\",\n",
    "    \"Who do you live with?\": \"Who do you live with? [Spouse; Parent; Adult children; Sibling; Flatmate; Carer; Other]\",\n",
    "    \"Events per week\": \"How often do you attend events per week? [None; 1–2; 3–4; 5 or more]\",\n",
    "    \"Event types usually attended\": \"What kinds of events do you attend? [Religious; Medical; Family visits; Club meetings; Online calls; Other]\",\n",
    "    \"Hospital/clinic visits per month\": \"Hospital/clinic visits per month? [0; 1; 2–3; More than 3; It varies]\",\n",
    "    \"Who you frequently talk to\": \"Who do you frequently talk to? [Family; Friends; Carers; Colleagues; Other]\",\n",
    "    \"Where conversations usually happen\": \"Where are you usually during conversations? [Home; Clinic; Work; Social Events; Online; Other]\",\n",
    "    \"Common conversation types\": \"Common conversation types? [Small talk; Emotional support; Making requests; Jokes/humour; Giving instructions; Other]\",\n",
    "    \"People you'd like help communicating with\": \"People you'd like help communicating with? (e.g., doctor, sibling, manager)\",\n",
    "    \"Situations to sound more (confident/polite/warm/firm/funny/professional)\": \"Situations you'd like help sounding more… [Confident; Polite; Warm; Firm; Funny; Professional; Other]\",\n",
    "    \"Conversations that cause stress/fatigue\": \"Conversations that cause stress or fatigue?\",\n",
    "    \"Misunderstood tone? (Yes/No/Sometimes)\": \"Do people sometimes misunderstand your tone/intent? [Yes; No; Sometimes]\",\n",
    "    \"Hobbies/interests\": \"What are your hobbies or interests?\",\n",
    "    \"Topics enjoyed most\": \"What topics do you enjoy most?\",\n",
    "    \"Topics to avoid\": \"What topics would you prefer to avoid?\",\n",
    "    \"Moments/topics that bring joy/comfort\": \"What moments/topics bring you joy or comfort?\",\n",
    "    \"Stories/memories/songs you return to\": \"Stories, memories, or songs you often return to?\",\n",
    "    \"How you express when low/frustrated\": \"How do you usually express yourself when feeling low or frustrated?\",\n",
    "    \"Something you'd like to say more often\": \"Something you'd like to say more often but find hard to express?\",\n",
    "    \"Traits/values that matter most\": \"Traits/values that matter most? [Honesty; Kindness; Humour; Clarity; Privacy; Other]\",\n",
    "    \"Offensive jokes? (Y/N) + details\": \"Are there offensive jokes/topics? [Y/N] If yes, please specify:\",\n",
    "    \"Biggest source of emotional strength\": \"Biggest source of emotional strength? [Faith; Family; Friends; Music; Personal values; Other]\",\n",
    "    \"Favourite phrases/sayings\": \"Favourite phrases or sayings?\",\n",
    "    \"Reflect religion/culture/values? (Y/N/Specify)\": \"Reflect your religion/culture/values in responses? [Yes; No; Please specify]\",\n",
    "    \"Remember past conversations? (Y/N/Ask)\": \"Remember past conversations and bring them up? [Yes; No; Ask me each time]\",\n",
    "    \"Default emotional tone (optimistic/realistic/etc.)\": \"Default emotional tone? [Optimistic; Realistic; Grateful; Calm; Other]\",\n",
    "    \"Humour style (light/dry/puns/silly/none/other)\": \"Humour style? [Light; Dry; Puns; Silly; None; Other]\",\n",
    "    \"Effort to select/type a response\": \"Effort to select/type a response? [Very little; Moderate effort; High effort]\",\n",
    "    \"Assistant behaviour (suggest/wait/mix)\": \"Assistant behaviour? [Suggest replies; Wait for me; Mix of both]\",\n",
    "    \"Fatigue/attention notes\": \"Fatigue/attention notes we should consider?\",\n",
    "    \"How quickly to get to the point\": \"How quickly to ‘get to the point’? [Very quickly; Naturally; With warmth and buildup]\",\n",
    "    \"Assistive tools used\": \"Assistive communication tools? [Eye-tracking; Head switches; Speech-to-text; AAC device; Other]\",\n",
    "    \"Preferred device\": \"Preferred device? [Tablet; Desktop; Mobile phone; Smartwatch; Other]\",\n",
    "    \"Typical conversation length\": \"How long can you typically engage before rest? [<5 min; 5–10 min; 10–20 min; >20 min]\",\n",
    "}"
   ]
  },
  {
   "cell_type": "code",
   "execution_count": 21,
   "id": "66001000",
   "metadata": {},
   "outputs": [],
   "source": [
    "# --- Load existing (to ensure we stick to these columns) ---\n",
    "if os.path.exists(OUT_PATH):\n",
    "    try:\n",
    "        existing = pd.read_csv(OUT_PATH, encoding=\"utf-8-sig\")\n",
    "    except Exception:\n",
    "        existing = pd.read_csv(OUT_PATH)  # fallback\n",
    "    # Ensure the file's columns match the expected HEADERS\n",
    "    missing_in_file = [c for c in HEADERS if c not in existing.columns]\n",
    "    extra_in_file   = [c for c in existing.columns if c not in HEADERS]\n",
    "    if missing_in_file:\n",
    "        raise ValueError(f\"Existing CSV is missing expected columns: {missing_in_file}\")\n",
    "    if extra_in_file:\n",
    "        # Keep only the expected columns in the order of HEADERS\n",
    "        existing = existing[[c for c in existing.columns if c in HEADERS]]\n",
    "else:\n",
    "    # Create an empty DataFrame with the exact headers\n",
    "    existing = pd.DataFrame(columns=HEADERS)\n"
   ]
  },
  {
   "cell_type": "code",
   "execution_count": 22,
   "id": "3c78f5e2",
   "metadata": {},
   "outputs": [
    {
     "name": "stdout",
     "output_type": "stream",
     "text": [
      "Please answer the onboarding questions below. Press Enter to skip any field.\n",
      "\n"
     ]
    }
   ],
   "source": [
    "# --- Collect answers (one persona per run) ---\n",
    "row = {col: \"\" for col in HEADERS}\n",
    "print(\"Please answer the onboarding questions below. Press Enter to skip any field.\\n\")\n",
    "for col in HEADERS:\n",
    "    prompt = PROMPTS.get(col, f\"{col}:\")\n",
    "    # Persona first if empty\n",
    "    if col == \"Persona\" and row[col] == \"\":\n",
    "        row[col] = input(prompt + \"\\n> \").strip()\n",
    "    elif col != \"Persona\":\n",
    "        row[col] = input(f\"\\n{prompt}\\n> \").strip()"
   ]
  },
  {
   "cell_type": "code",
   "execution_count": 23,
   "id": "c9aa87e5",
   "metadata": {},
   "outputs": [
    {
     "name": "stdout",
     "output_type": "stream",
     "text": [
      "✅ Saved/updated: data/Onboarding_Q&A.csv (columns preserved exactly)\n"
     ]
    }
   ],
   "source": [
    "# --- Append and save with EXACT columns and order ---\n",
    "new_row_df = pd.DataFrame([row], columns=HEADERS)\n",
    "out_df = pd.concat([existing[HEADERS], new_row_df], ignore_index=True)\n",
    "out_df.to_csv(OUT_PATH, index=False, encoding=\"utf-8-sig\")\n",
    "\n",
    "print(f\"✅ Saved/updated: {OUT_PATH} (columns preserved exactly)\")"
   ]
  }
 ],
 "metadata": {
  "kernelspec": {
   "display_name": "arp_env",
   "language": "python",
   "name": "python3"
  },
  "language_info": {
   "codemirror_mode": {
    "name": "ipython",
    "version": 3
   },
   "file_extension": ".py",
   "mimetype": "text/x-python",
   "name": "python",
   "nbconvert_exporter": "python",
   "pygments_lexer": "ipython3",
   "version": "3.10.18"
  }
 },
 "nbformat": 4,
 "nbformat_minor": 5
}
